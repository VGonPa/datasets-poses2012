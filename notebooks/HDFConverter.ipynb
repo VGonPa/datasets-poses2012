{
 "metadata": {
  "name": ""
 },
 "nbformat": 3,
 "nbformat_minor": 0,
 "worksheets": [
  {
   "cells": [
    {
     "cell_type": "markdown",
     "metadata": {},
     "source": [
      "This notebook converts the *.arff data to HDF Format using pandas.io.pytables"
     ]
    },
    {
     "cell_type": "code",
     "collapsed": false,
     "input": [
      "import pandas as pd\n",
      "import user_data_loader as udl\n",
      "import hdf_converter as hc\n"
     ],
     "language": "python",
     "metadata": {},
     "outputs": [],
     "prompt_number": 190
    },
    {
     "cell_type": "code",
     "collapsed": false,
     "input": [
      "from copy import copy\n",
      "experiments = ('exp01', 'exp02', 'exp03')\n",
      "users = copy(udl.users)\n",
      "users.pop(users.index('user06'))  # There is no 'user06' data, so we remove it"
     ],
     "language": "python",
     "metadata": {},
     "outputs": [
      {
       "metadata": {},
       "output_type": "pyout",
       "prompt_number": 191,
       "text": [
        "'user06'"
       ]
      }
     ],
     "prompt_number": 191
    },
    {
     "cell_type": "code",
     "collapsed": false,
     "input": [
      "store = hc.build_store('/tmp/store.h5', '../data/', experiments, users)"
     ],
     "language": "python",
     "metadata": {},
     "outputs": [
      {
       "output_type": "stream",
       "stream": "stdout",
       "text": [
        "../data/exp01-user01.arff "
       ]
      },
      {
       "output_type": "stream",
       "stream": "stdout",
       "text": [
        "../data/exp01-user02.arff "
       ]
      },
      {
       "output_type": "stream",
       "stream": "stdout",
       "text": [
        "../data/exp01-user03.arff "
       ]
      },
      {
       "output_type": "stream",
       "stream": "stdout",
       "text": [
        "../data/exp01-user04.arff "
       ]
      },
      {
       "output_type": "stream",
       "stream": "stdout",
       "text": [
        "../data/exp01-user05.arff "
       ]
      },
      {
       "output_type": "stream",
       "stream": "stdout",
       "text": [
        "../data/exp01-user07.arff "
       ]
      },
      {
       "output_type": "stream",
       "stream": "stdout",
       "text": [
        "../data/exp01-user08.arff "
       ]
      },
      {
       "output_type": "stream",
       "stream": "stdout",
       "text": [
        "../data/exp01-user09.arff "
       ]
      },
      {
       "output_type": "stream",
       "stream": "stdout",
       "text": [
        "../data/exp01-user10.arff "
       ]
      },
      {
       "output_type": "stream",
       "stream": "stdout",
       "text": [
        "../data/exp01-user11.arff "
       ]
      },
      {
       "output_type": "stream",
       "stream": "stdout",
       "text": [
        "../data/exp01-user13.arff "
       ]
      },
      {
       "output_type": "stream",
       "stream": "stdout",
       "text": [
        "../data/exp01-user14.arff "
       ]
      },
      {
       "output_type": "stream",
       "stream": "stdout",
       "text": [
        "../data/exp01-user15.arff "
       ]
      },
      {
       "output_type": "stream",
       "stream": "stdout",
       "text": [
        "../data/exp01-user16.arff "
       ]
      },
      {
       "output_type": "stream",
       "stream": "stdout",
       "text": [
        "../data/exp01-user17.arff "
       ]
      },
      {
       "output_type": "stream",
       "stream": "stdout",
       "text": [
        "../data/exp01-user18.arff "
       ]
      },
      {
       "output_type": "stream",
       "stream": "stdout",
       "text": [
        "../data/exp01-user19.arff "
       ]
      },
      {
       "output_type": "stream",
       "stream": "stdout",
       "text": [
        "../data/exp01-user20.arff "
       ]
      },
      {
       "output_type": "stream",
       "stream": "stdout",
       "text": [
        "../data/exp01-user21.arff "
       ]
      },
      {
       "output_type": "stream",
       "stream": "stdout",
       "text": [
        "../data/exp01-user22.arff "
       ]
      },
      {
       "output_type": "stream",
       "stream": "stdout",
       "text": [
        "../data/exp01-user23.arff "
       ]
      },
      {
       "output_type": "stream",
       "stream": "stdout",
       "text": [
        "../data/exp01-user24.arff "
       ]
      },
      {
       "output_type": "stream",
       "stream": "stdout",
       "text": [
        "../data/exp01-user25.arff "
       ]
      },
      {
       "output_type": "stream",
       "stream": "stdout",
       "text": [
        "../data/exp01-user26.arff "
       ]
      },
      {
       "output_type": "stream",
       "stream": "stdout",
       "text": [
        "../data/exp01-user27.arff "
       ]
      },
      {
       "output_type": "stream",
       "stream": "stdout",
       "text": [
        "../data/exp01-user28.arff "
       ]
      },
      {
       "output_type": "stream",
       "stream": "stdout",
       "text": [
        "../data/exp01-user29.arff "
       ]
      },
      {
       "output_type": "stream",
       "stream": "stdout",
       "text": [
        "../data/exp01-user30.arff "
       ]
      },
      {
       "output_type": "stream",
       "stream": "stdout",
       "text": [
        "../data/exp02-user01.arff "
       ]
      },
      {
       "output_type": "stream",
       "stream": "stdout",
       "text": [
        "../data/exp02-user02.arff "
       ]
      },
      {
       "output_type": "stream",
       "stream": "stdout",
       "text": [
        "../data/exp02-user03.arff "
       ]
      },
      {
       "output_type": "stream",
       "stream": "stdout",
       "text": [
        "../data/exp02-user04.arff "
       ]
      },
      {
       "output_type": "stream",
       "stream": "stdout",
       "text": [
        "../data/exp02-user05.arff "
       ]
      },
      {
       "output_type": "stream",
       "stream": "stdout",
       "text": [
        "../data/exp02-user07.arff "
       ]
      },
      {
       "output_type": "stream",
       "stream": "stdout",
       "text": [
        "../data/exp02-user08.arff "
       ]
      },
      {
       "output_type": "stream",
       "stream": "stdout",
       "text": [
        "../data/exp02-user09.arff "
       ]
      },
      {
       "output_type": "stream",
       "stream": "stdout",
       "text": [
        "../data/exp02-user10.arff "
       ]
      },
      {
       "output_type": "stream",
       "stream": "stdout",
       "text": [
        "../data/exp02-user11.arff "
       ]
      },
      {
       "output_type": "stream",
       "stream": "stdout",
       "text": [
        "../data/exp02-user13.arff "
       ]
      },
      {
       "output_type": "stream",
       "stream": "stdout",
       "text": [
        "../data/exp02-user14.arff "
       ]
      },
      {
       "output_type": "stream",
       "stream": "stdout",
       "text": [
        "../data/exp02-user15.arff "
       ]
      },
      {
       "output_type": "stream",
       "stream": "stdout",
       "text": [
        "../data/exp02-user16.arff "
       ]
      },
      {
       "output_type": "stream",
       "stream": "stdout",
       "text": [
        "../data/exp02-user17.arff "
       ]
      },
      {
       "output_type": "stream",
       "stream": "stdout",
       "text": [
        "../data/exp02-user18.arff "
       ]
      },
      {
       "output_type": "stream",
       "stream": "stdout",
       "text": [
        "../data/exp02-user19.arff "
       ]
      },
      {
       "output_type": "stream",
       "stream": "stdout",
       "text": [
        "../data/exp02-user20.arff "
       ]
      },
      {
       "output_type": "stream",
       "stream": "stdout",
       "text": [
        "../data/exp02-user21.arff "
       ]
      },
      {
       "output_type": "stream",
       "stream": "stdout",
       "text": [
        "../data/exp02-user22.arff "
       ]
      },
      {
       "output_type": "stream",
       "stream": "stdout",
       "text": [
        "../data/exp02-user23.arff "
       ]
      },
      {
       "output_type": "stream",
       "stream": "stdout",
       "text": [
        "../data/exp02-user24.arff "
       ]
      },
      {
       "output_type": "stream",
       "stream": "stdout",
       "text": [
        "../data/exp02-user25.arff "
       ]
      },
      {
       "output_type": "stream",
       "stream": "stdout",
       "text": [
        "../data/exp02-user26.arff "
       ]
      },
      {
       "output_type": "stream",
       "stream": "stdout",
       "text": [
        "../data/exp02-user27.arff "
       ]
      },
      {
       "output_type": "stream",
       "stream": "stdout",
       "text": [
        "../data/exp02-user28.arff "
       ]
      },
      {
       "output_type": "stream",
       "stream": "stdout",
       "text": [
        "../data/exp02-user29.arff "
       ]
      },
      {
       "output_type": "stream",
       "stream": "stdout",
       "text": [
        "../data/exp02-user30.arff "
       ]
      },
      {
       "output_type": "stream",
       "stream": "stdout",
       "text": [
        "../data/exp03-user01.arff "
       ]
      },
      {
       "output_type": "stream",
       "stream": "stdout",
       "text": [
        "../data/exp03-user02.arff "
       ]
      },
      {
       "output_type": "stream",
       "stream": "stdout",
       "text": [
        "../data/exp03-user03.arff "
       ]
      },
      {
       "output_type": "stream",
       "stream": "stdout",
       "text": [
        "../data/exp03-user04.arff "
       ]
      },
      {
       "output_type": "stream",
       "stream": "stdout",
       "text": [
        "../data/exp03-user05.arff "
       ]
      },
      {
       "output_type": "stream",
       "stream": "stdout",
       "text": [
        "../data/exp03-user07.arff "
       ]
      },
      {
       "output_type": "stream",
       "stream": "stdout",
       "text": [
        "../data/exp03-user08.arff "
       ]
      },
      {
       "output_type": "stream",
       "stream": "stdout",
       "text": [
        "../data/exp03-user09.arff "
       ]
      },
      {
       "output_type": "stream",
       "stream": "stdout",
       "text": [
        "../data/exp03-user10.arff "
       ]
      },
      {
       "output_type": "stream",
       "stream": "stdout",
       "text": [
        "../data/exp03-user11.arff "
       ]
      },
      {
       "output_type": "stream",
       "stream": "stdout",
       "text": [
        "../data/exp03-user13.arff "
       ]
      },
      {
       "output_type": "stream",
       "stream": "stdout",
       "text": [
        "../data/exp03-user14.arff "
       ]
      },
      {
       "output_type": "stream",
       "stream": "stdout",
       "text": [
        "../data/exp03-user15.arff "
       ]
      },
      {
       "output_type": "stream",
       "stream": "stdout",
       "text": [
        "../data/exp03-user16.arff "
       ]
      },
      {
       "output_type": "stream",
       "stream": "stdout",
       "text": [
        "../data/exp03-user17.arff "
       ]
      },
      {
       "output_type": "stream",
       "stream": "stdout",
       "text": [
        "../data/exp03-user18.arff "
       ]
      },
      {
       "output_type": "stream",
       "stream": "stdout",
       "text": [
        "../data/exp03-user19.arff "
       ]
      },
      {
       "output_type": "stream",
       "stream": "stdout",
       "text": [
        "../data/exp03-user20.arff "
       ]
      },
      {
       "output_type": "stream",
       "stream": "stdout",
       "text": [
        "../data/exp03-user21.arff "
       ]
      },
      {
       "output_type": "stream",
       "stream": "stdout",
       "text": [
        "../data/exp03-user22.arff "
       ]
      },
      {
       "output_type": "stream",
       "stream": "stdout",
       "text": [
        "../data/exp03-user23.arff "
       ]
      },
      {
       "output_type": "stream",
       "stream": "stdout",
       "text": [
        "../data/exp03-user24.arff "
       ]
      },
      {
       "output_type": "stream",
       "stream": "stdout",
       "text": [
        "../data/exp03-user25.arff "
       ]
      },
      {
       "output_type": "stream",
       "stream": "stdout",
       "text": [
        "../data/exp03-user26.arff "
       ]
      },
      {
       "output_type": "stream",
       "stream": "stdout",
       "text": [
        "../data/exp03-user27.arff "
       ]
      },
      {
       "output_type": "stream",
       "stream": "stdout",
       "text": [
        "../data/exp03-user28.arff "
       ]
      },
      {
       "output_type": "stream",
       "stream": "stdout",
       "text": [
        "../data/exp03-user29.arff "
       ]
      },
      {
       "output_type": "stream",
       "stream": "stdout",
       "text": [
        "../data/exp03-user30.arff\n"
       ]
      }
     ],
     "prompt_number": 192
    },
    {
     "cell_type": "code",
     "collapsed": false,
     "input": [
      "store"
     ],
     "language": "python",
     "metadata": {},
     "outputs": [
      {
       "metadata": {},
       "output_type": "pyout",
       "prompt_number": 193,
       "text": [
        "<class 'pandas.io.pytables.HDFStore'>\n",
        "File path: /tmp/store.h5\n",
        "/exp01/user01            frame_table  (typ->appendable,nrows->221,ncols->124,indexers->[index])\n",
        "/exp01/user02            frame_table  (typ->appendable,nrows->163,ncols->124,indexers->[index])\n",
        "/exp01/user03            frame_table  (typ->appendable,nrows->145,ncols->124,indexers->[index])\n",
        "/exp01/user04            frame_table  (typ->appendable,nrows->194,ncols->124,indexers->[index])\n",
        "/exp01/user05            frame_table  (typ->appendable,nrows->145,ncols->124,indexers->[index])\n",
        "/exp01/user07            frame_table  (typ->appendable,nrows->348,ncols->124,indexers->[index])\n",
        "/exp01/user08            frame_table  (typ->appendable,nrows->240,ncols->124,indexers->[index])\n",
        "/exp01/user09            frame_table  (typ->appendable,nrows->276,ncols->124,indexers->[index])\n",
        "/exp01/user10            frame_table  (typ->appendable,nrows->333,ncols->124,indexers->[index])\n",
        "/exp01/user11            frame_table  (typ->appendable,nrows->213,ncols->124,indexers->[index])\n",
        "/exp01/user13            frame_table  (typ->appendable,nrows->192,ncols->124,indexers->[index])\n",
        "/exp01/user14            frame_table  (typ->appendable,nrows->147,ncols->124,indexers->[index])\n",
        "/exp01/user15            frame_table  (typ->appendable,nrows->123,ncols->124,indexers->[index])\n",
        "/exp01/user16            frame_table  (typ->appendable,nrows->242,ncols->124,indexers->[index])\n",
        "/exp01/user17            frame_table  (typ->appendable,nrows->151,ncols->124,indexers->[index])\n",
        "/exp01/user18            frame_table  (typ->appendable,nrows->152,ncols->124,indexers->[index])\n",
        "/exp01/user19            frame_table  (typ->appendable,nrows->141,ncols->124,indexers->[index])\n",
        "/exp01/user20            frame_table  (typ->appendable,nrows->224,ncols->124,indexers->[index])\n",
        "/exp01/user21            frame_table  (typ->appendable,nrows->169,ncols->124,indexers->[index])\n",
        "/exp01/user22            frame_table  (typ->appendable,nrows->159,ncols->124,indexers->[index])\n",
        "/exp01/user23            frame_table  (typ->appendable,nrows->119,ncols->124,indexers->[index])\n",
        "/exp01/user24            frame_table  (typ->appendable,nrows->138,ncols->124,indexers->[index])\n",
        "/exp01/user25            frame_table  (typ->appendable,nrows->144,ncols->124,indexers->[index])\n",
        "/exp01/user26            frame_table  (typ->appendable,nrows->176,ncols->124,indexers->[index])\n",
        "/exp01/user27            frame_table  (typ->appendable,nrows->187,ncols->124,indexers->[index])\n",
        "/exp01/user28            frame_table  (typ->appendable,nrows->283,ncols->124,indexers->[index])\n",
        "/exp01/user29            frame_table  (typ->appendable,nrows->238,ncols->124,indexers->[index])\n",
        "/exp01/user30            frame_table  (typ->appendable,nrows->158,ncols->124,indexers->[index])\n",
        "/exp02/user01            frame_table  (typ->appendable,nrows->213,ncols->124,indexers->[index])\n",
        "/exp02/user02            frame_table  (typ->appendable,nrows->139,ncols->124,indexers->[index])\n",
        "/exp02/user03            frame_table  (typ->appendable,nrows->143,ncols->124,indexers->[index])\n",
        "/exp02/user04            frame_table  (typ->appendable,nrows->173,ncols->124,indexers->[index])\n",
        "/exp02/user05            frame_table  (typ->appendable,nrows->132,ncols->124,indexers->[index])\n",
        "/exp02/user07            frame_table  (typ->appendable,nrows->325,ncols->124,indexers->[index])\n",
        "/exp02/user08            frame_table  (typ->appendable,nrows->180,ncols->124,indexers->[index])\n",
        "/exp02/user09            frame_table  (typ->appendable,nrows->189,ncols->124,indexers->[index])\n",
        "/exp02/user10            frame_table  (typ->appendable,nrows->224,ncols->124,indexers->[index])\n",
        "/exp02/user11            frame_table  (typ->appendable,nrows->388,ncols->124,indexers->[index])\n",
        "/exp02/user13            frame_table  (typ->appendable,nrows->171,ncols->124,indexers->[index])\n",
        "/exp02/user14            frame_table  (typ->appendable,nrows->136,ncols->124,indexers->[index])\n",
        "/exp02/user15            frame_table  (typ->appendable,nrows->144,ncols->124,indexers->[index])\n",
        "/exp02/user16            frame_table  (typ->appendable,nrows->187,ncols->124,indexers->[index])\n",
        "/exp02/user17            frame_table  (typ->appendable,nrows->127,ncols->124,indexers->[index])\n",
        "/exp02/user18            frame_table  (typ->appendable,nrows->136,ncols->124,indexers->[index])\n",
        "/exp02/user19            frame_table  (typ->appendable,nrows->168,ncols->124,indexers->[index])\n",
        "/exp02/user20            frame_table  (typ->appendable,nrows->165,ncols->124,indexers->[index])\n",
        "/exp02/user21            frame_table  (typ->appendable,nrows->174,ncols->124,indexers->[index])\n",
        "/exp02/user22            frame_table  (typ->appendable,nrows->173,ncols->124,indexers->[index])\n",
        "/exp02/user23            frame_table  (typ->appendable,nrows->166,ncols->124,indexers->[index])\n",
        "/exp02/user24            frame_table  (typ->appendable,nrows->141,ncols->124,indexers->[index])\n",
        "/exp02/user25            frame_table  (typ->appendable,nrows->121,ncols->124,indexers->[index])\n",
        "/exp02/user26            frame_table  (typ->appendable,nrows->175,ncols->124,indexers->[index])\n",
        "/exp02/user27            frame_table  (typ->appendable,nrows->144,ncols->124,indexers->[index])\n",
        "/exp02/user28            frame_table  (typ->appendable,nrows->153,ncols->124,indexers->[index])\n",
        "/exp02/user29            frame_table  (typ->appendable,nrows->175,ncols->124,indexers->[index])\n",
        "/exp02/user30            frame_table  (typ->appendable,nrows->118,ncols->124,indexers->[index])\n",
        "/exp03/user01            frame_table  (typ->appendable,nrows->178,ncols->124,indexers->[index])\n",
        "/exp03/user02            frame_table  (typ->appendable,nrows->131,ncols->124,indexers->[index])\n",
        "/exp03/user03            frame_table  (typ->appendable,nrows->137,ncols->124,indexers->[index])\n",
        "/exp03/user04            frame_table  (typ->appendable,nrows->152,ncols->124,indexers->[index])\n",
        "/exp03/user05            frame_table  (typ->appendable,nrows->156,ncols->124,indexers->[index])\n",
        "/exp03/user07            frame_table  (typ->appendable,nrows->812,ncols->124,indexers->[index])\n",
        "/exp03/user08            frame_table  (typ->appendable,nrows->159,ncols->124,indexers->[index])\n",
        "/exp03/user09            frame_table  (typ->appendable,nrows->196,ncols->124,indexers->[index])\n",
        "/exp03/user10            frame_table  (typ->appendable,nrows->227,ncols->124,indexers->[index])\n",
        "/exp03/user11            frame_table  (typ->appendable,nrows->874,ncols->124,indexers->[index])\n",
        "/exp03/user13            frame_table  (typ->appendable,nrows->156,ncols->124,indexers->[index])\n",
        "/exp03/user14            frame_table  (typ->appendable,nrows->186,ncols->124,indexers->[index])\n",
        "/exp03/user15            frame_table  (typ->appendable,nrows->126,ncols->124,indexers->[index])\n",
        "/exp03/user16            frame_table  (typ->appendable,nrows->123,ncols->124,indexers->[index])\n",
        "/exp03/user17            frame_table  (typ->appendable,nrows->140,ncols->124,indexers->[index])\n",
        "/exp03/user18            frame_table  (typ->appendable,nrows->130,ncols->124,indexers->[index])\n",
        "/exp03/user19            frame_table  (typ->appendable,nrows->190,ncols->124,indexers->[index])\n",
        "/exp03/user20            frame_table  (typ->appendable,nrows->137,ncols->124,indexers->[index])\n",
        "/exp03/user21            frame_table  (typ->appendable,nrows->242,ncols->124,indexers->[index])\n",
        "/exp03/user22            frame_table  (typ->appendable,nrows->136,ncols->124,indexers->[index])\n",
        "/exp03/user23            frame_table  (typ->appendable,nrows->189,ncols->124,indexers->[index])\n",
        "/exp03/user24            frame_table  (typ->appendable,nrows->120,ncols->124,indexers->[index])\n",
        "/exp03/user25            frame_table  (typ->appendable,nrows->203,ncols->124,indexers->[index])\n",
        "/exp03/user26            frame_table  (typ->appendable,nrows->150,ncols->124,indexers->[index])\n",
        "/exp03/user27            frame_table  (typ->appendable,nrows->153,ncols->124,indexers->[index])\n",
        "/exp03/user28            frame_table  (typ->appendable,nrows->163,ncols->124,indexers->[index])\n",
        "/exp03/user29            frame_table  (typ->appendable,nrows->332,ncols->124,indexers->[index])\n",
        "/exp03/user30            frame_table  (typ->appendable,nrows->230,ncols->124,indexers->[index])"
       ]
      }
     ],
     "prompt_number": 193
    },
    {
     "cell_type": "code",
     "collapsed": false,
     "input": [
      "store.flush()"
     ],
     "language": "python",
     "metadata": {},
     "outputs": [],
     "prompt_number": 194
    },
    {
     "cell_type": "code",
     "collapsed": false,
     "input": [],
     "language": "python",
     "metadata": {},
     "outputs": []
    }
   ],
   "metadata": {}
  }
 ]
}